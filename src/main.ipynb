{
 "cells": [
  {
   "cell_type": "code",
   "execution_count": 1,
   "id": "639d1224",
   "metadata": {},
   "outputs": [],
   "source": [
    "import pandas as pd\n",
    "from sklearn import preprocessing"
   ]
  },
  {
   "cell_type": "code",
   "execution_count": 2,
   "id": "aa9b8fa1",
   "metadata": {},
   "outputs": [],
   "source": [
    "df = pd.read_csv(\"../data/premireleague.csv\", index_col=0)"
   ]
  },
  {
   "cell_type": "code",
   "execution_count": 3,
   "id": "517faed5",
   "metadata": {},
   "outputs": [
    {
     "data": {
      "text/html": [
       "<div>\n",
       "<style scoped>\n",
       "    .dataframe tbody tr th:only-of-type {\n",
       "        vertical-align: middle;\n",
       "    }\n",
       "\n",
       "    .dataframe tbody tr th {\n",
       "        vertical-align: top;\n",
       "    }\n",
       "\n",
       "    .dataframe thead th {\n",
       "        text-align: right;\n",
       "    }\n",
       "</style>\n",
       "<table border=\"1\" class=\"dataframe\">\n",
       "  <thead>\n",
       "    <tr style=\"text-align: right;\">\n",
       "      <th></th>\n",
       "      <th>link_match</th>\n",
       "      <th>season</th>\n",
       "      <th>date</th>\n",
       "      <th>home_team</th>\n",
       "      <th>away_team</th>\n",
       "      <th>result_full</th>\n",
       "      <th>result_ht</th>\n",
       "      <th>home_clearances</th>\n",
       "      <th>home_corners</th>\n",
       "      <th>home_fouls_conceded</th>\n",
       "      <th>...</th>\n",
       "      <th>tackles_avg_away</th>\n",
       "      <th>touches_avg_away</th>\n",
       "      <th>yellow_cards_avg_away</th>\n",
       "      <th>goals_scored_ft_avg_away</th>\n",
       "      <th>goals_conced_ft_avg_away</th>\n",
       "      <th>sg_match_ft_acum_away</th>\n",
       "      <th>goals_scored_ht_avg_away</th>\n",
       "      <th>goals_conced_ht_avg_away</th>\n",
       "      <th>sg_match_ht_acum_away</th>\n",
       "      <th>performance_acum_away</th>\n",
       "    </tr>\n",
       "  </thead>\n",
       "  <tbody>\n",
       "    <tr>\n",
       "      <th>0</th>\n",
       "      <td>https://www.premierleague.com/match/7186</td>\n",
       "      <td>10/11</td>\n",
       "      <td>2010-11-01</td>\n",
       "      <td>Blackpool</td>\n",
       "      <td>West Bromwich Albion</td>\n",
       "      <td>2-1</td>\n",
       "      <td>1-0</td>\n",
       "      <td>15.0</td>\n",
       "      <td>8.0</td>\n",
       "      <td>16.0</td>\n",
       "      <td>...</td>\n",
       "      <td>20.0</td>\n",
       "      <td>584.9</td>\n",
       "      <td>1.6</td>\n",
       "      <td>1.44</td>\n",
       "      <td>1.67</td>\n",
       "      <td>-2.0</td>\n",
       "      <td>0.33</td>\n",
       "      <td>0.78</td>\n",
       "      <td>-4.0</td>\n",
       "      <td>55.6</td>\n",
       "    </tr>\n",
       "    <tr>\n",
       "      <th>1</th>\n",
       "      <td>https://www.premierleague.com/match/7404</td>\n",
       "      <td>10/11</td>\n",
       "      <td>2011-04-11</td>\n",
       "      <td>Liverpool</td>\n",
       "      <td>Manchester City</td>\n",
       "      <td>3-0</td>\n",
       "      <td>3-0</td>\n",
       "      <td>16.0</td>\n",
       "      <td>6.0</td>\n",
       "      <td>6.0</td>\n",
       "      <td>...</td>\n",
       "      <td>22.0</td>\n",
       "      <td>681.4</td>\n",
       "      <td>2.0</td>\n",
       "      <td>1.61</td>\n",
       "      <td>0.87</td>\n",
       "      <td>23.0</td>\n",
       "      <td>0.87</td>\n",
       "      <td>0.32</td>\n",
       "      <td>17.0</td>\n",
       "      <td>60.2</td>\n",
       "    </tr>\n",
       "    <tr>\n",
       "      <th>2</th>\n",
       "      <td>https://www.premierleague.com/match/7255</td>\n",
       "      <td>10/11</td>\n",
       "      <td>2010-12-13</td>\n",
       "      <td>Manchester United</td>\n",
       "      <td>Arsenal</td>\n",
       "      <td>1-0</td>\n",
       "      <td>1-0</td>\n",
       "      <td>26.0</td>\n",
       "      <td>5.0</td>\n",
       "      <td>9.0</td>\n",
       "      <td>...</td>\n",
       "      <td>21.2</td>\n",
       "      <td>748.0</td>\n",
       "      <td>1.8</td>\n",
       "      <td>2.12</td>\n",
       "      <td>1.12</td>\n",
       "      <td>16.0</td>\n",
       "      <td>0.94</td>\n",
       "      <td>0.38</td>\n",
       "      <td>9.0</td>\n",
       "      <td>66.7</td>\n",
       "    </tr>\n",
       "    <tr>\n",
       "      <th>3</th>\n",
       "      <td>https://www.premierleague.com/match/7126</td>\n",
       "      <td>10/11</td>\n",
       "      <td>2010-09-13</td>\n",
       "      <td>Stoke City</td>\n",
       "      <td>Aston Villa</td>\n",
       "      <td>2-1</td>\n",
       "      <td>0-1</td>\n",
       "      <td>26.0</td>\n",
       "      <td>8.0</td>\n",
       "      <td>12.0</td>\n",
       "      <td>...</td>\n",
       "      <td>25.0</td>\n",
       "      <td>567.3</td>\n",
       "      <td>2.0</td>\n",
       "      <td>1.33</td>\n",
       "      <td>2.00</td>\n",
       "      <td>-2.0</td>\n",
       "      <td>1.00</td>\n",
       "      <td>1.00</td>\n",
       "      <td>0.0</td>\n",
       "      <td>66.7</td>\n",
       "    </tr>\n",
       "    <tr>\n",
       "      <th>4</th>\n",
       "      <td>https://www.premierleague.com/match/7350</td>\n",
       "      <td>10/11</td>\n",
       "      <td>2011-02-14</td>\n",
       "      <td>Fulham</td>\n",
       "      <td>Chelsea</td>\n",
       "      <td>0-0</td>\n",
       "      <td>0-0</td>\n",
       "      <td>50.0</td>\n",
       "      <td>4.0</td>\n",
       "      <td>11.0</td>\n",
       "      <td>...</td>\n",
       "      <td>19.4</td>\n",
       "      <td>728.6</td>\n",
       "      <td>1.4</td>\n",
       "      <td>1.84</td>\n",
       "      <td>0.88</td>\n",
       "      <td>24.0</td>\n",
       "      <td>0.84</td>\n",
       "      <td>0.48</td>\n",
       "      <td>9.0</td>\n",
       "      <td>58.7</td>\n",
       "    </tr>\n",
       "  </tbody>\n",
       "</table>\n",
       "<p>5 rows × 113 columns</p>\n",
       "</div>"
      ],
      "text/plain": [
       "                                 link_match season        date  \\\n",
       "0  https://www.premierleague.com/match/7186  10/11  2010-11-01   \n",
       "1  https://www.premierleague.com/match/7404  10/11  2011-04-11   \n",
       "2  https://www.premierleague.com/match/7255  10/11  2010-12-13   \n",
       "3  https://www.premierleague.com/match/7126  10/11  2010-09-13   \n",
       "4  https://www.premierleague.com/match/7350  10/11  2011-02-14   \n",
       "\n",
       "           home_team             away_team result_full result_ht  \\\n",
       "0          Blackpool  West Bromwich Albion         2-1       1-0   \n",
       "1          Liverpool       Manchester City         3-0       3-0   \n",
       "2  Manchester United               Arsenal         1-0       1-0   \n",
       "3         Stoke City           Aston Villa         2-1       0-1   \n",
       "4             Fulham               Chelsea         0-0       0-0   \n",
       "\n",
       "   home_clearances  home_corners  home_fouls_conceded  ...  tackles_avg_away  \\\n",
       "0             15.0           8.0                 16.0  ...              20.0   \n",
       "1             16.0           6.0                  6.0  ...              22.0   \n",
       "2             26.0           5.0                  9.0  ...              21.2   \n",
       "3             26.0           8.0                 12.0  ...              25.0   \n",
       "4             50.0           4.0                 11.0  ...              19.4   \n",
       "\n",
       "   touches_avg_away  yellow_cards_avg_away  goals_scored_ft_avg_away  \\\n",
       "0             584.9                    1.6                      1.44   \n",
       "1             681.4                    2.0                      1.61   \n",
       "2             748.0                    1.8                      2.12   \n",
       "3             567.3                    2.0                      1.33   \n",
       "4             728.6                    1.4                      1.84   \n",
       "\n",
       "   goals_conced_ft_avg_away  sg_match_ft_acum_away  goals_scored_ht_avg_away  \\\n",
       "0                      1.67                   -2.0                      0.33   \n",
       "1                      0.87                   23.0                      0.87   \n",
       "2                      1.12                   16.0                      0.94   \n",
       "3                      2.00                   -2.0                      1.00   \n",
       "4                      0.88                   24.0                      0.84   \n",
       "\n",
       "   goals_conced_ht_avg_away  sg_match_ht_acum_away  performance_acum_away  \n",
       "0                      0.78                   -4.0                   55.6  \n",
       "1                      0.32                   17.0                   60.2  \n",
       "2                      0.38                    9.0                   66.7  \n",
       "3                      1.00                    0.0                   66.7  \n",
       "4                      0.48                    9.0                   58.7  \n",
       "\n",
       "[5 rows x 113 columns]"
      ]
     },
     "execution_count": 3,
     "metadata": {},
     "output_type": "execute_result"
    }
   ],
   "source": [
    "df.head()"
   ]
  },
  {
   "cell_type": "code",
   "execution_count": 4,
   "id": "ba64b0f9",
   "metadata": {},
   "outputs": [
    {
     "data": {
      "text/plain": [
       "(4070, 113)"
      ]
     },
     "execution_count": 4,
     "metadata": {},
     "output_type": "execute_result"
    }
   ],
   "source": [
    "df.shape"
   ]
  },
  {
   "cell_type": "code",
   "execution_count": 5,
   "id": "4b2cba80",
   "metadata": {},
   "outputs": [
    {
     "data": {
      "text/plain": [
       "7600"
      ]
     },
     "execution_count": 5,
     "metadata": {},
     "output_type": "execute_result"
    }
   ],
   "source": [
    "38 * 20 * 10"
   ]
  },
  {
   "cell_type": "code",
   "execution_count": 6,
   "id": "4c87681d",
   "metadata": {},
   "outputs": [
    {
     "data": {
      "text/plain": [
       "Manchester City             205\n",
       "Liverpool                   204\n",
       "Manchester United           203\n",
       "Chelsea                     203\n",
       "Arsenal                     203\n",
       "Everton                     203\n",
       "Tottenham Hotspur           203\n",
       "Newcastle United            184\n",
       "West Ham United             184\n",
       "West Bromwich Albion        167\n",
       "Southampton                 165\n",
       "Stoke City                  152\n",
       "Crystal Palace              146\n",
       "Aston Villa                 145\n",
       "Swansea City                133\n",
       "Sunderland                  133\n",
       "Leicester City              127\n",
       "Burnley                     110\n",
       "Fulham                      109\n",
       "Norwich City                 95\n",
       "Watford                      95\n",
       "AFC Bournemouth              95\n",
       "Wolverhampton Wanderers      89\n",
       "Brighton and Hove Albion     71\n",
       "Queens Park Rangers          57\n",
       "Wigan Athletic               57\n",
       "Hull City                    57\n",
       "Huddersfield Town            38\n",
       "Cardiff City                 38\n",
       "Bolton Wanderers             38\n",
       "Blackburn Rovers             38\n",
       "Sheffield United             34\n",
       "Blackpool                    19\n",
       "Middlesbrough                19\n",
       "Reading                      19\n",
       "Birmingham City              19\n",
       "Leeds United                 13\n",
       "Name: home_team, dtype: int64"
      ]
     },
     "execution_count": 6,
     "metadata": {},
     "output_type": "execute_result"
    }
   ],
   "source": [
    "df[\"home_team\"].value_counts()"
   ]
  },
  {
   "cell_type": "code",
   "execution_count": 7,
   "id": "3c382738",
   "metadata": {},
   "outputs": [
    {
     "data": {
      "text/plain": [
       "Manchester United           205\n",
       "Arsenal                     204\n",
       "Chelsea                     204\n",
       "Manchester City             203\n",
       "Everton                     203\n",
       "Liverpool                   203\n",
       "Tottenham Hotspur           202\n",
       "Newcastle United            185\n",
       "West Ham United             184\n",
       "Southampton                 166\n",
       "West Bromwich Albion        165\n",
       "Stoke City                  152\n",
       "Aston Villa                 147\n",
       "Crystal Palace              146\n",
       "Sunderland                  133\n",
       "Swansea City                133\n",
       "Leicester City              129\n",
       "Fulham                      109\n",
       "Burnley                     108\n",
       "Norwich City                 95\n",
       "Watford                      95\n",
       "AFC Bournemouth              94\n",
       "Wolverhampton Wanderers      91\n",
       "Brighton and Hove Albion     70\n",
       "Queens Park Rangers          57\n",
       "Hull City                    57\n",
       "Wigan Athletic               57\n",
       "Huddersfield Town            38\n",
       "Bolton Wanderers             38\n",
       "Cardiff City                 38\n",
       "Blackburn Rovers             38\n",
       "Sheffield United             32\n",
       "Reading                      19\n",
       "Middlesbrough                19\n",
       "Birmingham City              19\n",
       "Blackpool                    19\n",
       "Leeds United                 13\n",
       "Name: away_team, dtype: int64"
      ]
     },
     "execution_count": 7,
     "metadata": {},
     "output_type": "execute_result"
    }
   ],
   "source": [
    "df[\"away_team\"].value_counts()"
   ]
  },
  {
   "cell_type": "code",
   "execution_count": 8,
   "id": "b351c7d2",
   "metadata": {},
   "outputs": [],
   "source": [
    "pl = pd.read_csv(\"../data/matches.csv\", index_col=0)"
   ]
  },
  {
   "cell_type": "code",
   "execution_count": 9,
   "id": "2340c8d4",
   "metadata": {},
   "outputs": [
    {
     "data": {
      "text/html": [
       "<div>\n",
       "<style scoped>\n",
       "    .dataframe tbody tr th:only-of-type {\n",
       "        vertical-align: middle;\n",
       "    }\n",
       "\n",
       "    .dataframe tbody tr th {\n",
       "        vertical-align: top;\n",
       "    }\n",
       "\n",
       "    .dataframe thead th {\n",
       "        text-align: right;\n",
       "    }\n",
       "</style>\n",
       "<table border=\"1\" class=\"dataframe\">\n",
       "  <thead>\n",
       "    <tr style=\"text-align: right;\">\n",
       "      <th></th>\n",
       "      <th>date</th>\n",
       "      <th>time</th>\n",
       "      <th>comp</th>\n",
       "      <th>round</th>\n",
       "      <th>day</th>\n",
       "      <th>venue</th>\n",
       "      <th>result</th>\n",
       "      <th>gf</th>\n",
       "      <th>ga</th>\n",
       "      <th>opponent</th>\n",
       "      <th>...</th>\n",
       "      <th>match report</th>\n",
       "      <th>notes</th>\n",
       "      <th>sh</th>\n",
       "      <th>sot</th>\n",
       "      <th>dist</th>\n",
       "      <th>fk</th>\n",
       "      <th>pk</th>\n",
       "      <th>pkatt</th>\n",
       "      <th>season</th>\n",
       "      <th>team</th>\n",
       "    </tr>\n",
       "  </thead>\n",
       "  <tbody>\n",
       "    <tr>\n",
       "      <th>1</th>\n",
       "      <td>2021-08-15</td>\n",
       "      <td>16:30</td>\n",
       "      <td>Premier League</td>\n",
       "      <td>Matchweek 1</td>\n",
       "      <td>Sun</td>\n",
       "      <td>Away</td>\n",
       "      <td>L</td>\n",
       "      <td>0.0</td>\n",
       "      <td>1.0</td>\n",
       "      <td>Tottenham</td>\n",
       "      <td>...</td>\n",
       "      <td>Match Report</td>\n",
       "      <td>NaN</td>\n",
       "      <td>18.0</td>\n",
       "      <td>4.0</td>\n",
       "      <td>16.9</td>\n",
       "      <td>1.0</td>\n",
       "      <td>0.0</td>\n",
       "      <td>0.0</td>\n",
       "      <td>2022</td>\n",
       "      <td>Manchester City</td>\n",
       "    </tr>\n",
       "    <tr>\n",
       "      <th>2</th>\n",
       "      <td>2021-08-21</td>\n",
       "      <td>15:00</td>\n",
       "      <td>Premier League</td>\n",
       "      <td>Matchweek 2</td>\n",
       "      <td>Sat</td>\n",
       "      <td>Home</td>\n",
       "      <td>W</td>\n",
       "      <td>5.0</td>\n",
       "      <td>0.0</td>\n",
       "      <td>Norwich City</td>\n",
       "      <td>...</td>\n",
       "      <td>Match Report</td>\n",
       "      <td>NaN</td>\n",
       "      <td>16.0</td>\n",
       "      <td>4.0</td>\n",
       "      <td>17.3</td>\n",
       "      <td>1.0</td>\n",
       "      <td>0.0</td>\n",
       "      <td>0.0</td>\n",
       "      <td>2022</td>\n",
       "      <td>Manchester City</td>\n",
       "    </tr>\n",
       "    <tr>\n",
       "      <th>3</th>\n",
       "      <td>2021-08-28</td>\n",
       "      <td>12:30</td>\n",
       "      <td>Premier League</td>\n",
       "      <td>Matchweek 3</td>\n",
       "      <td>Sat</td>\n",
       "      <td>Home</td>\n",
       "      <td>W</td>\n",
       "      <td>5.0</td>\n",
       "      <td>0.0</td>\n",
       "      <td>Arsenal</td>\n",
       "      <td>...</td>\n",
       "      <td>Match Report</td>\n",
       "      <td>NaN</td>\n",
       "      <td>25.0</td>\n",
       "      <td>10.0</td>\n",
       "      <td>14.3</td>\n",
       "      <td>0.0</td>\n",
       "      <td>0.0</td>\n",
       "      <td>0.0</td>\n",
       "      <td>2022</td>\n",
       "      <td>Manchester City</td>\n",
       "    </tr>\n",
       "    <tr>\n",
       "      <th>4</th>\n",
       "      <td>2021-09-11</td>\n",
       "      <td>15:00</td>\n",
       "      <td>Premier League</td>\n",
       "      <td>Matchweek 4</td>\n",
       "      <td>Sat</td>\n",
       "      <td>Away</td>\n",
       "      <td>W</td>\n",
       "      <td>1.0</td>\n",
       "      <td>0.0</td>\n",
       "      <td>Leicester City</td>\n",
       "      <td>...</td>\n",
       "      <td>Match Report</td>\n",
       "      <td>NaN</td>\n",
       "      <td>25.0</td>\n",
       "      <td>8.0</td>\n",
       "      <td>14.0</td>\n",
       "      <td>0.0</td>\n",
       "      <td>0.0</td>\n",
       "      <td>0.0</td>\n",
       "      <td>2022</td>\n",
       "      <td>Manchester City</td>\n",
       "    </tr>\n",
       "    <tr>\n",
       "      <th>6</th>\n",
       "      <td>2021-09-18</td>\n",
       "      <td>15:00</td>\n",
       "      <td>Premier League</td>\n",
       "      <td>Matchweek 5</td>\n",
       "      <td>Sat</td>\n",
       "      <td>Home</td>\n",
       "      <td>D</td>\n",
       "      <td>0.0</td>\n",
       "      <td>0.0</td>\n",
       "      <td>Southampton</td>\n",
       "      <td>...</td>\n",
       "      <td>Match Report</td>\n",
       "      <td>NaN</td>\n",
       "      <td>16.0</td>\n",
       "      <td>1.0</td>\n",
       "      <td>15.7</td>\n",
       "      <td>1.0</td>\n",
       "      <td>0.0</td>\n",
       "      <td>0.0</td>\n",
       "      <td>2022</td>\n",
       "      <td>Manchester City</td>\n",
       "    </tr>\n",
       "    <tr>\n",
       "      <th>...</th>\n",
       "      <td>...</td>\n",
       "      <td>...</td>\n",
       "      <td>...</td>\n",
       "      <td>...</td>\n",
       "      <td>...</td>\n",
       "      <td>...</td>\n",
       "      <td>...</td>\n",
       "      <td>...</td>\n",
       "      <td>...</td>\n",
       "      <td>...</td>\n",
       "      <td>...</td>\n",
       "      <td>...</td>\n",
       "      <td>...</td>\n",
       "      <td>...</td>\n",
       "      <td>...</td>\n",
       "      <td>...</td>\n",
       "      <td>...</td>\n",
       "      <td>...</td>\n",
       "      <td>...</td>\n",
       "      <td>...</td>\n",
       "      <td>...</td>\n",
       "    </tr>\n",
       "    <tr>\n",
       "      <th>38</th>\n",
       "      <td>2021-05-02</td>\n",
       "      <td>19:15</td>\n",
       "      <td>Premier League</td>\n",
       "      <td>Matchweek 34</td>\n",
       "      <td>Sun</td>\n",
       "      <td>Away</td>\n",
       "      <td>L</td>\n",
       "      <td>0.0</td>\n",
       "      <td>4.0</td>\n",
       "      <td>Tottenham</td>\n",
       "      <td>...</td>\n",
       "      <td>Match Report</td>\n",
       "      <td>NaN</td>\n",
       "      <td>8.0</td>\n",
       "      <td>1.0</td>\n",
       "      <td>17.4</td>\n",
       "      <td>0.0</td>\n",
       "      <td>0.0</td>\n",
       "      <td>0.0</td>\n",
       "      <td>2021</td>\n",
       "      <td>Sheffield United</td>\n",
       "    </tr>\n",
       "    <tr>\n",
       "      <th>39</th>\n",
       "      <td>2021-05-08</td>\n",
       "      <td>15:00</td>\n",
       "      <td>Premier League</td>\n",
       "      <td>Matchweek 35</td>\n",
       "      <td>Sat</td>\n",
       "      <td>Home</td>\n",
       "      <td>L</td>\n",
       "      <td>0.0</td>\n",
       "      <td>2.0</td>\n",
       "      <td>Crystal Palace</td>\n",
       "      <td>...</td>\n",
       "      <td>Match Report</td>\n",
       "      <td>NaN</td>\n",
       "      <td>7.0</td>\n",
       "      <td>0.0</td>\n",
       "      <td>11.4</td>\n",
       "      <td>1.0</td>\n",
       "      <td>0.0</td>\n",
       "      <td>0.0</td>\n",
       "      <td>2021</td>\n",
       "      <td>Sheffield United</td>\n",
       "    </tr>\n",
       "    <tr>\n",
       "      <th>40</th>\n",
       "      <td>2021-05-16</td>\n",
       "      <td>19:00</td>\n",
       "      <td>Premier League</td>\n",
       "      <td>Matchweek 36</td>\n",
       "      <td>Sun</td>\n",
       "      <td>Away</td>\n",
       "      <td>W</td>\n",
       "      <td>1.0</td>\n",
       "      <td>0.0</td>\n",
       "      <td>Everton</td>\n",
       "      <td>...</td>\n",
       "      <td>Match Report</td>\n",
       "      <td>NaN</td>\n",
       "      <td>10.0</td>\n",
       "      <td>3.0</td>\n",
       "      <td>17.0</td>\n",
       "      <td>0.0</td>\n",
       "      <td>0.0</td>\n",
       "      <td>0.0</td>\n",
       "      <td>2021</td>\n",
       "      <td>Sheffield United</td>\n",
       "    </tr>\n",
       "    <tr>\n",
       "      <th>41</th>\n",
       "      <td>2021-05-19</td>\n",
       "      <td>18:00</td>\n",
       "      <td>Premier League</td>\n",
       "      <td>Matchweek 37</td>\n",
       "      <td>Wed</td>\n",
       "      <td>Away</td>\n",
       "      <td>L</td>\n",
       "      <td>0.0</td>\n",
       "      <td>1.0</td>\n",
       "      <td>Newcastle Utd</td>\n",
       "      <td>...</td>\n",
       "      <td>Match Report</td>\n",
       "      <td>NaN</td>\n",
       "      <td>11.0</td>\n",
       "      <td>1.0</td>\n",
       "      <td>16.0</td>\n",
       "      <td>1.0</td>\n",
       "      <td>0.0</td>\n",
       "      <td>0.0</td>\n",
       "      <td>2021</td>\n",
       "      <td>Sheffield United</td>\n",
       "    </tr>\n",
       "    <tr>\n",
       "      <th>42</th>\n",
       "      <td>2021-05-23</td>\n",
       "      <td>16:00</td>\n",
       "      <td>Premier League</td>\n",
       "      <td>Matchweek 38</td>\n",
       "      <td>Sun</td>\n",
       "      <td>Home</td>\n",
       "      <td>W</td>\n",
       "      <td>1.0</td>\n",
       "      <td>0.0</td>\n",
       "      <td>Burnley</td>\n",
       "      <td>...</td>\n",
       "      <td>Match Report</td>\n",
       "      <td>NaN</td>\n",
       "      <td>12.0</td>\n",
       "      <td>3.0</td>\n",
       "      <td>17.0</td>\n",
       "      <td>0.0</td>\n",
       "      <td>0.0</td>\n",
       "      <td>0.0</td>\n",
       "      <td>2021</td>\n",
       "      <td>Sheffield United</td>\n",
       "    </tr>\n",
       "  </tbody>\n",
       "</table>\n",
       "<p>1389 rows × 27 columns</p>\n",
       "</div>"
      ],
      "text/plain": [
       "          date   time            comp         round  day venue result   gf  \\\n",
       "1   2021-08-15  16:30  Premier League   Matchweek 1  Sun  Away      L  0.0   \n",
       "2   2021-08-21  15:00  Premier League   Matchweek 2  Sat  Home      W  5.0   \n",
       "3   2021-08-28  12:30  Premier League   Matchweek 3  Sat  Home      W  5.0   \n",
       "4   2021-09-11  15:00  Premier League   Matchweek 4  Sat  Away      W  1.0   \n",
       "6   2021-09-18  15:00  Premier League   Matchweek 5  Sat  Home      D  0.0   \n",
       "..         ...    ...             ...           ...  ...   ...    ...  ...   \n",
       "38  2021-05-02  19:15  Premier League  Matchweek 34  Sun  Away      L  0.0   \n",
       "39  2021-05-08  15:00  Premier League  Matchweek 35  Sat  Home      L  0.0   \n",
       "40  2021-05-16  19:00  Premier League  Matchweek 36  Sun  Away      W  1.0   \n",
       "41  2021-05-19  18:00  Premier League  Matchweek 37  Wed  Away      L  0.0   \n",
       "42  2021-05-23  16:00  Premier League  Matchweek 38  Sun  Home      W  1.0   \n",
       "\n",
       "     ga        opponent  ...  match report  notes    sh   sot  dist   fk   pk  \\\n",
       "1   1.0       Tottenham  ...  Match Report    NaN  18.0   4.0  16.9  1.0  0.0   \n",
       "2   0.0    Norwich City  ...  Match Report    NaN  16.0   4.0  17.3  1.0  0.0   \n",
       "3   0.0         Arsenal  ...  Match Report    NaN  25.0  10.0  14.3  0.0  0.0   \n",
       "4   0.0  Leicester City  ...  Match Report    NaN  25.0   8.0  14.0  0.0  0.0   \n",
       "6   0.0     Southampton  ...  Match Report    NaN  16.0   1.0  15.7  1.0  0.0   \n",
       "..  ...             ...  ...           ...    ...   ...   ...   ...  ...  ...   \n",
       "38  4.0       Tottenham  ...  Match Report    NaN   8.0   1.0  17.4  0.0  0.0   \n",
       "39  2.0  Crystal Palace  ...  Match Report    NaN   7.0   0.0  11.4  1.0  0.0   \n",
       "40  0.0         Everton  ...  Match Report    NaN  10.0   3.0  17.0  0.0  0.0   \n",
       "41  1.0   Newcastle Utd  ...  Match Report    NaN  11.0   1.0  16.0  1.0  0.0   \n",
       "42  0.0         Burnley  ...  Match Report    NaN  12.0   3.0  17.0  0.0  0.0   \n",
       "\n",
       "   pkatt  season              team  \n",
       "1    0.0    2022   Manchester City  \n",
       "2    0.0    2022   Manchester City  \n",
       "3    0.0    2022   Manchester City  \n",
       "4    0.0    2022   Manchester City  \n",
       "6    0.0    2022   Manchester City  \n",
       "..   ...     ...               ...  \n",
       "38   0.0    2021  Sheffield United  \n",
       "39   0.0    2021  Sheffield United  \n",
       "40   0.0    2021  Sheffield United  \n",
       "41   0.0    2021  Sheffield United  \n",
       "42   0.0    2021  Sheffield United  \n",
       "\n",
       "[1389 rows x 27 columns]"
      ]
     },
     "execution_count": 9,
     "metadata": {},
     "output_type": "execute_result"
    }
   ],
   "source": [
    "pl"
   ]
  },
  {
   "cell_type": "code",
   "execution_count": 10,
   "id": "267f5b7c",
   "metadata": {},
   "outputs": [
    {
     "data": {
      "text/plain": [
       "1520"
      ]
     },
     "execution_count": 10,
     "metadata": {},
     "output_type": "execute_result"
    }
   ],
   "source": [
    "38*20*2"
   ]
  },
  {
   "cell_type": "code",
   "execution_count": 11,
   "id": "ef9b32e5",
   "metadata": {},
   "outputs": [
    {
     "data": {
      "text/plain": [
       "Southampton                 72\n",
       "Brighton and Hove Albion    72\n",
       "Manchester United           72\n",
       "West Ham United             72\n",
       "Newcastle United            72\n",
       "Burnley                     71\n",
       "Leeds United                71\n",
       "Crystal Palace              71\n",
       "Manchester City             71\n",
       "Wolverhampton Wanderers     71\n",
       "Tottenham Hotspur           71\n",
       "Arsenal                     71\n",
       "Leicester City              70\n",
       "Chelsea                     70\n",
       "Aston Villa                 70\n",
       "Everton                     70\n",
       "Liverpool                   38\n",
       "Fulham                      38\n",
       "West Bromwich Albion        38\n",
       "Sheffield United            38\n",
       "Brentford                   34\n",
       "Watford                     33\n",
       "Norwich City                33\n",
       "Name: team, dtype: int64"
      ]
     },
     "execution_count": 11,
     "metadata": {},
     "output_type": "execute_result"
    }
   ],
   "source": [
    "pl['team'].value_counts()"
   ]
  },
  {
   "cell_type": "code",
   "execution_count": 12,
   "id": "4fbdc682",
   "metadata": {},
   "outputs": [],
   "source": [
    "pl[\"date\"] = pd.to_datetime(pl[\"date\"])"
   ]
  },
  {
   "cell_type": "code",
   "execution_count": 13,
   "id": "8886ce98",
   "metadata": {},
   "outputs": [
    {
     "data": {
      "text/plain": [
       "date            datetime64[ns]\n",
       "time                    object\n",
       "comp                    object\n",
       "round                   object\n",
       "day                     object\n",
       "venue                   object\n",
       "result                  object\n",
       "gf                     float64\n",
       "ga                     float64\n",
       "opponent                object\n",
       "xg                     float64\n",
       "xga                    float64\n",
       "poss                   float64\n",
       "attendance             float64\n",
       "captain                 object\n",
       "formation               object\n",
       "referee                 object\n",
       "match report            object\n",
       "notes                  float64\n",
       "sh                     float64\n",
       "sot                    float64\n",
       "dist                   float64\n",
       "fk                     float64\n",
       "pk                     float64\n",
       "pkatt                  float64\n",
       "season                   int64\n",
       "team                    object\n",
       "dtype: object"
      ]
     },
     "execution_count": 13,
     "metadata": {},
     "output_type": "execute_result"
    }
   ],
   "source": [
    "pl.dtypes"
   ]
  },
  {
   "cell_type": "code",
   "execution_count": 14,
   "id": "49fceee2",
   "metadata": {},
   "outputs": [],
   "source": [
    "pl[\"venue_code\"]= pl[\"venue\"].astype(\"category\").cat.codes"
   ]
  },
  {
   "cell_type": "code",
   "execution_count": 15,
   "id": "f7e1f5b8",
   "metadata": {},
   "outputs": [],
   "source": [
    "# Draw = 0, Loss = 1, Win = 2\n",
    "pl[\"target\"] = pl[\"result\"].astype(\"category\").cat.codes"
   ]
  },
  {
   "cell_type": "code",
   "execution_count": 16,
   "id": "ec0e7700",
   "metadata": {},
   "outputs": [
    {
     "data": {
      "text/plain": [
       "1     1\n",
       "2     2\n",
       "3     2\n",
       "4     2\n",
       "6     0\n",
       "     ..\n",
       "38    1\n",
       "39    1\n",
       "40    2\n",
       "41    1\n",
       "42    2\n",
       "Name: target, Length: 1389, dtype: int8"
      ]
     },
     "execution_count": 16,
     "metadata": {},
     "output_type": "execute_result"
    }
   ],
   "source": [
    "pl[\"target\"]"
   ]
  },
  {
   "cell_type": "code",
   "execution_count": 17,
   "id": "4cff3640",
   "metadata": {
    "scrolled": true
   },
   "outputs": [],
   "source": [
    "#pl[\"target\"] = (pl[\"result\"] == \"W\").astype(\"int\")\n",
    "#pl[\"target\"] = pl[\"result\"].astype(\"int\")"
   ]
  },
  {
   "cell_type": "code",
   "execution_count": 18,
   "id": "adeb93e3",
   "metadata": {},
   "outputs": [],
   "source": [
    "pl[\"venue_code\"] = pl[\"venue\"].astype(\"category\").cat.codes"
   ]
  },
  {
   "cell_type": "code",
   "execution_count": 19,
   "id": "aaa264f1",
   "metadata": {},
   "outputs": [],
   "source": [
    "pl[\"opp_code\"] = pl[\"opponent\"].astype(\"category\").cat.codes"
   ]
  },
  {
   "cell_type": "code",
   "execution_count": 20,
   "id": "75aa54c0",
   "metadata": {},
   "outputs": [],
   "source": [
    "pl[\"home_code\"] = pl[\"team\"].astype(\"category\").cat.codes"
   ]
  },
  {
   "cell_type": "code",
   "execution_count": 21,
   "id": "e9d237b5",
   "metadata": {},
   "outputs": [],
   "source": [
    "pl[\"hour\"] = pl[\"time\"].str.replace(\":.+\", \"\", regex=True).astype(\"int\")"
   ]
  },
  {
   "cell_type": "code",
   "execution_count": 22,
   "id": "23e403c6",
   "metadata": {},
   "outputs": [],
   "source": [
    "pl[\"day_code\"] = pl[\"date\"].dt.dayofweek"
   ]
  },
  {
   "cell_type": "code",
   "execution_count": 23,
   "id": "467371f7",
   "metadata": {},
   "outputs": [
    {
     "data": {
      "text/html": [
       "<div>\n",
       "<style scoped>\n",
       "    .dataframe tbody tr th:only-of-type {\n",
       "        vertical-align: middle;\n",
       "    }\n",
       "\n",
       "    .dataframe tbody tr th {\n",
       "        vertical-align: top;\n",
       "    }\n",
       "\n",
       "    .dataframe thead th {\n",
       "        text-align: right;\n",
       "    }\n",
       "</style>\n",
       "<table border=\"1\" class=\"dataframe\">\n",
       "  <thead>\n",
       "    <tr style=\"text-align: right;\">\n",
       "      <th></th>\n",
       "      <th>date</th>\n",
       "      <th>time</th>\n",
       "      <th>comp</th>\n",
       "      <th>round</th>\n",
       "      <th>day</th>\n",
       "      <th>venue</th>\n",
       "      <th>result</th>\n",
       "      <th>gf</th>\n",
       "      <th>ga</th>\n",
       "      <th>opponent</th>\n",
       "      <th>...</th>\n",
       "      <th>pk</th>\n",
       "      <th>pkatt</th>\n",
       "      <th>season</th>\n",
       "      <th>team</th>\n",
       "      <th>venue_code</th>\n",
       "      <th>target</th>\n",
       "      <th>opp_code</th>\n",
       "      <th>home_code</th>\n",
       "      <th>hour</th>\n",
       "      <th>day_code</th>\n",
       "    </tr>\n",
       "  </thead>\n",
       "  <tbody>\n",
       "    <tr>\n",
       "      <th>1</th>\n",
       "      <td>2021-08-15</td>\n",
       "      <td>16:30</td>\n",
       "      <td>Premier League</td>\n",
       "      <td>Matchweek 1</td>\n",
       "      <td>Sun</td>\n",
       "      <td>Away</td>\n",
       "      <td>L</td>\n",
       "      <td>0.0</td>\n",
       "      <td>1.0</td>\n",
       "      <td>Tottenham</td>\n",
       "      <td>...</td>\n",
       "      <td>0.0</td>\n",
       "      <td>0.0</td>\n",
       "      <td>2022</td>\n",
       "      <td>Manchester City</td>\n",
       "      <td>0</td>\n",
       "      <td>1</td>\n",
       "      <td>18</td>\n",
       "      <td>12</td>\n",
       "      <td>16</td>\n",
       "      <td>6</td>\n",
       "    </tr>\n",
       "    <tr>\n",
       "      <th>2</th>\n",
       "      <td>2021-08-21</td>\n",
       "      <td>15:00</td>\n",
       "      <td>Premier League</td>\n",
       "      <td>Matchweek 2</td>\n",
       "      <td>Sat</td>\n",
       "      <td>Home</td>\n",
       "      <td>W</td>\n",
       "      <td>5.0</td>\n",
       "      <td>0.0</td>\n",
       "      <td>Norwich City</td>\n",
       "      <td>...</td>\n",
       "      <td>0.0</td>\n",
       "      <td>0.0</td>\n",
       "      <td>2022</td>\n",
       "      <td>Manchester City</td>\n",
       "      <td>1</td>\n",
       "      <td>2</td>\n",
       "      <td>15</td>\n",
       "      <td>12</td>\n",
       "      <td>15</td>\n",
       "      <td>5</td>\n",
       "    </tr>\n",
       "    <tr>\n",
       "      <th>3</th>\n",
       "      <td>2021-08-28</td>\n",
       "      <td>12:30</td>\n",
       "      <td>Premier League</td>\n",
       "      <td>Matchweek 3</td>\n",
       "      <td>Sat</td>\n",
       "      <td>Home</td>\n",
       "      <td>W</td>\n",
       "      <td>5.0</td>\n",
       "      <td>0.0</td>\n",
       "      <td>Arsenal</td>\n",
       "      <td>...</td>\n",
       "      <td>0.0</td>\n",
       "      <td>0.0</td>\n",
       "      <td>2022</td>\n",
       "      <td>Manchester City</td>\n",
       "      <td>1</td>\n",
       "      <td>2</td>\n",
       "      <td>0</td>\n",
       "      <td>12</td>\n",
       "      <td>12</td>\n",
       "      <td>5</td>\n",
       "    </tr>\n",
       "    <tr>\n",
       "      <th>4</th>\n",
       "      <td>2021-09-11</td>\n",
       "      <td>15:00</td>\n",
       "      <td>Premier League</td>\n",
       "      <td>Matchweek 4</td>\n",
       "      <td>Sat</td>\n",
       "      <td>Away</td>\n",
       "      <td>W</td>\n",
       "      <td>1.0</td>\n",
       "      <td>0.0</td>\n",
       "      <td>Leicester City</td>\n",
       "      <td>...</td>\n",
       "      <td>0.0</td>\n",
       "      <td>0.0</td>\n",
       "      <td>2022</td>\n",
       "      <td>Manchester City</td>\n",
       "      <td>0</td>\n",
       "      <td>2</td>\n",
       "      <td>10</td>\n",
       "      <td>12</td>\n",
       "      <td>15</td>\n",
       "      <td>5</td>\n",
       "    </tr>\n",
       "    <tr>\n",
       "      <th>6</th>\n",
       "      <td>2021-09-18</td>\n",
       "      <td>15:00</td>\n",
       "      <td>Premier League</td>\n",
       "      <td>Matchweek 5</td>\n",
       "      <td>Sat</td>\n",
       "      <td>Home</td>\n",
       "      <td>D</td>\n",
       "      <td>0.0</td>\n",
       "      <td>0.0</td>\n",
       "      <td>Southampton</td>\n",
       "      <td>...</td>\n",
       "      <td>0.0</td>\n",
       "      <td>0.0</td>\n",
       "      <td>2022</td>\n",
       "      <td>Manchester City</td>\n",
       "      <td>1</td>\n",
       "      <td>0</td>\n",
       "      <td>17</td>\n",
       "      <td>12</td>\n",
       "      <td>15</td>\n",
       "      <td>5</td>\n",
       "    </tr>\n",
       "    <tr>\n",
       "      <th>...</th>\n",
       "      <td>...</td>\n",
       "      <td>...</td>\n",
       "      <td>...</td>\n",
       "      <td>...</td>\n",
       "      <td>...</td>\n",
       "      <td>...</td>\n",
       "      <td>...</td>\n",
       "      <td>...</td>\n",
       "      <td>...</td>\n",
       "      <td>...</td>\n",
       "      <td>...</td>\n",
       "      <td>...</td>\n",
       "      <td>...</td>\n",
       "      <td>...</td>\n",
       "      <td>...</td>\n",
       "      <td>...</td>\n",
       "      <td>...</td>\n",
       "      <td>...</td>\n",
       "      <td>...</td>\n",
       "      <td>...</td>\n",
       "      <td>...</td>\n",
       "    </tr>\n",
       "    <tr>\n",
       "      <th>38</th>\n",
       "      <td>2021-05-02</td>\n",
       "      <td>19:15</td>\n",
       "      <td>Premier League</td>\n",
       "      <td>Matchweek 34</td>\n",
       "      <td>Sun</td>\n",
       "      <td>Away</td>\n",
       "      <td>L</td>\n",
       "      <td>0.0</td>\n",
       "      <td>4.0</td>\n",
       "      <td>Tottenham</td>\n",
       "      <td>...</td>\n",
       "      <td>0.0</td>\n",
       "      <td>0.0</td>\n",
       "      <td>2021</td>\n",
       "      <td>Sheffield United</td>\n",
       "      <td>0</td>\n",
       "      <td>1</td>\n",
       "      <td>18</td>\n",
       "      <td>16</td>\n",
       "      <td>19</td>\n",
       "      <td>6</td>\n",
       "    </tr>\n",
       "    <tr>\n",
       "      <th>39</th>\n",
       "      <td>2021-05-08</td>\n",
       "      <td>15:00</td>\n",
       "      <td>Premier League</td>\n",
       "      <td>Matchweek 35</td>\n",
       "      <td>Sat</td>\n",
       "      <td>Home</td>\n",
       "      <td>L</td>\n",
       "      <td>0.0</td>\n",
       "      <td>2.0</td>\n",
       "      <td>Crystal Palace</td>\n",
       "      <td>...</td>\n",
       "      <td>0.0</td>\n",
       "      <td>0.0</td>\n",
       "      <td>2021</td>\n",
       "      <td>Sheffield United</td>\n",
       "      <td>1</td>\n",
       "      <td>1</td>\n",
       "      <td>6</td>\n",
       "      <td>16</td>\n",
       "      <td>15</td>\n",
       "      <td>5</td>\n",
       "    </tr>\n",
       "    <tr>\n",
       "      <th>40</th>\n",
       "      <td>2021-05-16</td>\n",
       "      <td>19:00</td>\n",
       "      <td>Premier League</td>\n",
       "      <td>Matchweek 36</td>\n",
       "      <td>Sun</td>\n",
       "      <td>Away</td>\n",
       "      <td>W</td>\n",
       "      <td>1.0</td>\n",
       "      <td>0.0</td>\n",
       "      <td>Everton</td>\n",
       "      <td>...</td>\n",
       "      <td>0.0</td>\n",
       "      <td>0.0</td>\n",
       "      <td>2021</td>\n",
       "      <td>Sheffield United</td>\n",
       "      <td>0</td>\n",
       "      <td>2</td>\n",
       "      <td>7</td>\n",
       "      <td>16</td>\n",
       "      <td>19</td>\n",
       "      <td>6</td>\n",
       "    </tr>\n",
       "    <tr>\n",
       "      <th>41</th>\n",
       "      <td>2021-05-19</td>\n",
       "      <td>18:00</td>\n",
       "      <td>Premier League</td>\n",
       "      <td>Matchweek 37</td>\n",
       "      <td>Wed</td>\n",
       "      <td>Away</td>\n",
       "      <td>L</td>\n",
       "      <td>0.0</td>\n",
       "      <td>1.0</td>\n",
       "      <td>Newcastle Utd</td>\n",
       "      <td>...</td>\n",
       "      <td>0.0</td>\n",
       "      <td>0.0</td>\n",
       "      <td>2021</td>\n",
       "      <td>Sheffield United</td>\n",
       "      <td>0</td>\n",
       "      <td>1</td>\n",
       "      <td>14</td>\n",
       "      <td>16</td>\n",
       "      <td>18</td>\n",
       "      <td>2</td>\n",
       "    </tr>\n",
       "    <tr>\n",
       "      <th>42</th>\n",
       "      <td>2021-05-23</td>\n",
       "      <td>16:00</td>\n",
       "      <td>Premier League</td>\n",
       "      <td>Matchweek 38</td>\n",
       "      <td>Sun</td>\n",
       "      <td>Home</td>\n",
       "      <td>W</td>\n",
       "      <td>1.0</td>\n",
       "      <td>0.0</td>\n",
       "      <td>Burnley</td>\n",
       "      <td>...</td>\n",
       "      <td>0.0</td>\n",
       "      <td>0.0</td>\n",
       "      <td>2021</td>\n",
       "      <td>Sheffield United</td>\n",
       "      <td>1</td>\n",
       "      <td>2</td>\n",
       "      <td>4</td>\n",
       "      <td>16</td>\n",
       "      <td>16</td>\n",
       "      <td>6</td>\n",
       "    </tr>\n",
       "  </tbody>\n",
       "</table>\n",
       "<p>1389 rows × 33 columns</p>\n",
       "</div>"
      ],
      "text/plain": [
       "         date   time            comp         round  day venue result   gf  \\\n",
       "1  2021-08-15  16:30  Premier League   Matchweek 1  Sun  Away      L  0.0   \n",
       "2  2021-08-21  15:00  Premier League   Matchweek 2  Sat  Home      W  5.0   \n",
       "3  2021-08-28  12:30  Premier League   Matchweek 3  Sat  Home      W  5.0   \n",
       "4  2021-09-11  15:00  Premier League   Matchweek 4  Sat  Away      W  1.0   \n",
       "6  2021-09-18  15:00  Premier League   Matchweek 5  Sat  Home      D  0.0   \n",
       "..        ...    ...             ...           ...  ...   ...    ...  ...   \n",
       "38 2021-05-02  19:15  Premier League  Matchweek 34  Sun  Away      L  0.0   \n",
       "39 2021-05-08  15:00  Premier League  Matchweek 35  Sat  Home      L  0.0   \n",
       "40 2021-05-16  19:00  Premier League  Matchweek 36  Sun  Away      W  1.0   \n",
       "41 2021-05-19  18:00  Premier League  Matchweek 37  Wed  Away      L  0.0   \n",
       "42 2021-05-23  16:00  Premier League  Matchweek 38  Sun  Home      W  1.0   \n",
       "\n",
       "     ga        opponent  ...   pk  pkatt  season              team venue_code  \\\n",
       "1   1.0       Tottenham  ...  0.0    0.0    2022   Manchester City          0   \n",
       "2   0.0    Norwich City  ...  0.0    0.0    2022   Manchester City          1   \n",
       "3   0.0         Arsenal  ...  0.0    0.0    2022   Manchester City          1   \n",
       "4   0.0  Leicester City  ...  0.0    0.0    2022   Manchester City          0   \n",
       "6   0.0     Southampton  ...  0.0    0.0    2022   Manchester City          1   \n",
       "..  ...             ...  ...  ...    ...     ...               ...        ...   \n",
       "38  4.0       Tottenham  ...  0.0    0.0    2021  Sheffield United          0   \n",
       "39  2.0  Crystal Palace  ...  0.0    0.0    2021  Sheffield United          1   \n",
       "40  0.0         Everton  ...  0.0    0.0    2021  Sheffield United          0   \n",
       "41  1.0   Newcastle Utd  ...  0.0    0.0    2021  Sheffield United          0   \n",
       "42  0.0         Burnley  ...  0.0    0.0    2021  Sheffield United          1   \n",
       "\n",
       "   target opp_code home_code  hour  day_code  \n",
       "1       1       18        12    16         6  \n",
       "2       2       15        12    15         5  \n",
       "3       2        0        12    12         5  \n",
       "4       2       10        12    15         5  \n",
       "6       0       17        12    15         5  \n",
       "..    ...      ...       ...   ...       ...  \n",
       "38      1       18        16    19         6  \n",
       "39      1        6        16    15         5  \n",
       "40      2        7        16    19         6  \n",
       "41      1       14        16    18         2  \n",
       "42      2        4        16    16         6  \n",
       "\n",
       "[1389 rows x 33 columns]"
      ]
     },
     "execution_count": 23,
     "metadata": {},
     "output_type": "execute_result"
    }
   ],
   "source": [
    "pl"
   ]
  },
  {
   "cell_type": "code",
   "execution_count": 24,
   "id": "ee2ac266",
   "metadata": {},
   "outputs": [
    {
     "data": {
      "text/plain": [
       "1           Tottenham\n",
       "2        Norwich City\n",
       "3             Arsenal\n",
       "4      Leicester City\n",
       "6         Southampton\n",
       "8             Chelsea\n",
       "10          Liverpool\n",
       "11            Burnley\n",
       "13           Brighton\n",
       "15     Crystal Palace\n",
       "17     Manchester Utd\n",
       "18            Everton\n",
       "20           West Ham\n",
       "21        Aston Villa\n",
       "22            Watford\n",
       "24             Wolves\n",
       "25       Leeds United\n",
       "26      Newcastle Utd\n",
       "27     Leicester City\n",
       "28          Brentford\n",
       "29            Arsenal\n",
       "31            Chelsea\n",
       "32        Southampton\n",
       "34          Brentford\n",
       "35       Norwich City\n",
       "37          Tottenham\n",
       "38            Everton\n",
       "40     Manchester Utd\n",
       "42     Crystal Palace\n",
       "44            Burnley\n",
       "46          Liverpool\n",
       "49           Brighton\n",
       "50            Watford\n",
       "1      Crystal Palace\n",
       "2             Arsenal\n",
       "3           Liverpool\n",
       "4         Aston Villa\n",
       "6           Tottenham\n",
       "8     Manchester City\n",
       "10        Southampton\n",
       "11          Brentford\n",
       "13       Norwich City\n",
       "15      Newcastle Utd\n",
       "17            Burnley\n",
       "18     Leicester City\n",
       "20     Manchester Utd\n",
       "21            Watford\n",
       "22           West Ham\n",
       "24       Leeds United\n",
       "25            Everton\n",
       "Name: opponent, dtype: object"
      ]
     },
     "execution_count": 24,
     "metadata": {},
     "output_type": "execute_result"
    }
   ],
   "source": [
    "(pl.opponent)[0:50]"
   ]
  },
  {
   "cell_type": "code",
   "execution_count": 25,
   "id": "973a1235",
   "metadata": {},
   "outputs": [
    {
     "data": {
      "text/plain": [
       "1     18\n",
       "2     15\n",
       "3      0\n",
       "4     10\n",
       "6     17\n",
       "8      5\n",
       "10    11\n",
       "11     4\n",
       "13     3\n",
       "15     6\n",
       "17    13\n",
       "18     7\n",
       "20    21\n",
       "21     1\n",
       "22    19\n",
       "24    22\n",
       "25     9\n",
       "26    14\n",
       "27    10\n",
       "28     2\n",
       "29     0\n",
       "31     5\n",
       "32    17\n",
       "34     2\n",
       "35    15\n",
       "37    18\n",
       "38     7\n",
       "40    13\n",
       "42     6\n",
       "44     4\n",
       "46    11\n",
       "49     3\n",
       "50    19\n",
       "1      6\n",
       "2      0\n",
       "3     11\n",
       "4      1\n",
       "6     18\n",
       "8     12\n",
       "10    17\n",
       "11     2\n",
       "13    15\n",
       "15    14\n",
       "17     4\n",
       "18    10\n",
       "20    13\n",
       "21    19\n",
       "22    21\n",
       "24     9\n",
       "25     7\n",
       "Name: opp_code, dtype: int8"
      ]
     },
     "execution_count": 25,
     "metadata": {},
     "output_type": "execute_result"
    }
   ],
   "source": [
    "pl.opp_code[0:50]"
   ]
  },
  {
   "cell_type": "code",
   "execution_count": 26,
   "id": "c2056395",
   "metadata": {},
   "outputs": [
    {
     "data": {
      "text/plain": [
       "1     Manchester City\n",
       "2     Manchester City\n",
       "3     Manchester City\n",
       "4     Manchester City\n",
       "6     Manchester City\n",
       "8     Manchester City\n",
       "10    Manchester City\n",
       "11    Manchester City\n",
       "13    Manchester City\n",
       "15    Manchester City\n",
       "17    Manchester City\n",
       "18    Manchester City\n",
       "20    Manchester City\n",
       "21    Manchester City\n",
       "22    Manchester City\n",
       "24    Manchester City\n",
       "25    Manchester City\n",
       "26    Manchester City\n",
       "27    Manchester City\n",
       "28    Manchester City\n",
       "29    Manchester City\n",
       "31    Manchester City\n",
       "32    Manchester City\n",
       "34    Manchester City\n",
       "35    Manchester City\n",
       "37    Manchester City\n",
       "38    Manchester City\n",
       "40    Manchester City\n",
       "42    Manchester City\n",
       "44    Manchester City\n",
       "46    Manchester City\n",
       "49    Manchester City\n",
       "50    Manchester City\n",
       "1             Chelsea\n",
       "2             Chelsea\n",
       "3             Chelsea\n",
       "4             Chelsea\n",
       "6             Chelsea\n",
       "8             Chelsea\n",
       "10            Chelsea\n",
       "11            Chelsea\n",
       "13            Chelsea\n",
       "15            Chelsea\n",
       "17            Chelsea\n",
       "18            Chelsea\n",
       "20            Chelsea\n",
       "21            Chelsea\n",
       "22            Chelsea\n",
       "24            Chelsea\n",
       "25            Chelsea\n",
       "Name: team, dtype: object"
      ]
     },
     "execution_count": 26,
     "metadata": {},
     "output_type": "execute_result"
    }
   ],
   "source": [
    "pl.team[0:50]"
   ]
  },
  {
   "cell_type": "code",
   "execution_count": 27,
   "id": "949bf53c",
   "metadata": {},
   "outputs": [
    {
     "data": {
      "text/plain": [
       "1     12\n",
       "2     12\n",
       "3     12\n",
       "4     12\n",
       "6     12\n",
       "8     12\n",
       "10    12\n",
       "11    12\n",
       "13    12\n",
       "15    12\n",
       "17    12\n",
       "18    12\n",
       "20    12\n",
       "21    12\n",
       "22    12\n",
       "24    12\n",
       "25    12\n",
       "26    12\n",
       "27    12\n",
       "28    12\n",
       "29    12\n",
       "31    12\n",
       "32    12\n",
       "34    12\n",
       "35    12\n",
       "37    12\n",
       "38    12\n",
       "40    12\n",
       "42    12\n",
       "44    12\n",
       "46    12\n",
       "49    12\n",
       "50    12\n",
       "1      5\n",
       "2      5\n",
       "3      5\n",
       "4      5\n",
       "6      5\n",
       "8      5\n",
       "10     5\n",
       "11     5\n",
       "13     5\n",
       "15     5\n",
       "17     5\n",
       "18     5\n",
       "20     5\n",
       "21     5\n",
       "22     5\n",
       "24     5\n",
       "25     5\n",
       "Name: home_code, dtype: int8"
      ]
     },
     "execution_count": 27,
     "metadata": {},
     "output_type": "execute_result"
    }
   ],
   "source": [
    "pl.home_code[0:50]"
   ]
  },
  {
   "cell_type": "code",
   "execution_count": 29,
   "id": "4bf69ae6",
   "metadata": {},
   "outputs": [],
   "source": [
    "pl.to_csv(\"cleaned_data.csv\")"
   ]
  },
  {
   "cell_type": "code",
   "execution_count": null,
   "id": "d1597599",
   "metadata": {},
   "outputs": [],
   "source": [
    "from sklearn.ensemble import RandomForestClassifier\n",
    "from sklearn.tree import DecisionTreeClassifier"
   ]
  },
  {
   "cell_type": "code",
   "execution_count": null,
   "id": "cd571371",
   "metadata": {},
   "outputs": [],
   "source": [
    "#rf = RandomForestClassifier(n_estimators=1000, min_samples_split=10, random_state=1)"
   ]
  },
  {
   "cell_type": "code",
   "execution_count": null,
   "id": "033691ff",
   "metadata": {},
   "outputs": [],
   "source": [
    "dt = DecisionTreeClassifier(max_depth=1000, ccp_alpha=0)"
   ]
  },
  {
   "cell_type": "code",
   "execution_count": null,
   "id": "051ef30c",
   "metadata": {},
   "outputs": [],
   "source": [
    "train = pl[pl[\"date\"] < '2022-01-01']"
   ]
  },
  {
   "cell_type": "code",
   "execution_count": null,
   "id": "a46d4ea4",
   "metadata": {},
   "outputs": [],
   "source": [
    "test = pl[pl[\"date\"] >= '2022-01-01']"
   ]
  },
  {
   "cell_type": "code",
   "execution_count": null,
   "id": "0875df05",
   "metadata": {},
   "outputs": [],
   "source": [
    "predictors = [\"home_code\", \"venue_code\", \"opp_code\", \"hour\", \"day_code\"]"
   ]
  },
  {
   "cell_type": "code",
   "execution_count": null,
   "id": "483ed644",
   "metadata": {},
   "outputs": [],
   "source": [
    "dt.fit(train[predictors], train[\"target\"])"
   ]
  },
  {
   "cell_type": "code",
   "execution_count": null,
   "id": "457fde92",
   "metadata": {},
   "outputs": [],
   "source": [
    "preds = dt.predict(test[predictors])"
   ]
  },
  {
   "cell_type": "code",
   "execution_count": null,
   "id": "cabb36cd",
   "metadata": {},
   "outputs": [],
   "source": [
    "preds"
   ]
  },
  {
   "cell_type": "code",
   "execution_count": null,
   "id": "88bd5a83",
   "metadata": {},
   "outputs": [],
   "source": [
    "from sklearn.metrics import accuracy_score"
   ]
  },
  {
   "cell_type": "code",
   "execution_count": null,
   "id": "9b9b414f",
   "metadata": {},
   "outputs": [],
   "source": [
    "accuracy_score(train[\"target\"], dt.predict(train[predictors]))"
   ]
  },
  {
   "cell_type": "code",
   "execution_count": null,
   "id": "9365f455",
   "metadata": {},
   "outputs": [],
   "source": [
    "accuracy_score(test[\"target\"], dt.predict(test[predictors]))"
   ]
  },
  {
   "cell_type": "code",
   "execution_count": null,
   "id": "30eb847d",
   "metadata": {},
   "outputs": [],
   "source": [
    "accuracy = accuracy_score(test[\"target\"], preds)"
   ]
  },
  {
   "cell_type": "code",
   "execution_count": null,
   "id": "2fd3c597",
   "metadata": {},
   "outputs": [],
   "source": [
    "accuracy*100"
   ]
  },
  {
   "cell_type": "code",
   "execution_count": null,
   "id": "b438a129",
   "metadata": {},
   "outputs": [],
   "source": [
    "combined = pd.DataFrame(dict(actual=test[\"target\"], predicted=preds))"
   ]
  },
  {
   "cell_type": "code",
   "execution_count": null,
   "id": "f0b63d18",
   "metadata": {},
   "outputs": [],
   "source": [
    "pd.crosstab(index=combined[\"actual\"], columns=combined[\"predicted\"])"
   ]
  },
  {
   "cell_type": "code",
   "execution_count": null,
   "id": "9970a10b",
   "metadata": {},
   "outputs": [],
   "source": [
    "combined = pd.DataFrame(dict(actual=train[\"target\"], predicted=dt.predict(train[predictors])))"
   ]
  },
  {
   "cell_type": "code",
   "execution_count": null,
   "id": "c4963803",
   "metadata": {},
   "outputs": [],
   "source": [
    "pd.crosstab(index=combined[\"actual\"], columns=combined[\"predicted\"])"
   ]
  },
  {
   "cell_type": "code",
   "execution_count": null,
   "id": "b3d259e7",
   "metadata": {},
   "outputs": [],
   "source": [
    "from sklearn.metrics import precision_score\n",
    "\n",
    "#precision_score(test[\"target\"], preds)"
   ]
  },
  {
   "cell_type": "code",
   "execution_count": null,
   "id": "1be68e9c",
   "metadata": {},
   "outputs": [],
   "source": [
    "grouped_matches = pl.groupby(\"team\")"
   ]
  },
  {
   "cell_type": "code",
   "execution_count": null,
   "id": "5ad14a90",
   "metadata": {},
   "outputs": [],
   "source": [
    "group = grouped_matches.get_group(\"Arsenal\").sort_values(\"date\")"
   ]
  },
  {
   "cell_type": "code",
   "execution_count": null,
   "id": "9a46dd0c",
   "metadata": {},
   "outputs": [],
   "source": [
    "group"
   ]
  },
  {
   "cell_type": "code",
   "execution_count": null,
   "id": "04f55f99",
   "metadata": {},
   "outputs": [],
   "source": [
    "def rolling_averages(group, cols, new_cols):\n",
    "    group = group.sort_values(\"date\")\n",
    "    rolling_stats = group[cols].rolling(3, closed='left').mean()\n",
    "    group[new_cols] = rolling_stats\n",
    "    group = group.dropna(subset=new_cols)\n",
    "    return group"
   ]
  },
  {
   "cell_type": "code",
   "execution_count": null,
   "id": "1b8bec2b",
   "metadata": {},
   "outputs": [],
   "source": [
    "cols = [\"gf\", \"ga\", \"sh\", \"sot\", \"dist\", \"fk\", \"pk\", \"pkatt\"]\n",
    "new_cols = [f\"{c}_rolling\" for c in cols]\n",
    "\n",
    "rolling_averages(group, cols, new_cols)"
   ]
  },
  {
   "cell_type": "code",
   "execution_count": null,
   "id": "20359f5a",
   "metadata": {},
   "outputs": [],
   "source": [
    "matches_rolling = pl.groupby(\"team\").apply(lambda x: rolling_averages(x, cols, new_cols))\n"
   ]
  },
  {
   "cell_type": "code",
   "execution_count": null,
   "id": "eb01b627",
   "metadata": {},
   "outputs": [],
   "source": [
    "matches_rolling"
   ]
  },
  {
   "cell_type": "code",
   "execution_count": null,
   "id": "7842ef51",
   "metadata": {},
   "outputs": [],
   "source": [
    "matches_rolling = matches_rolling.droplevel('team')"
   ]
  },
  {
   "cell_type": "code",
   "execution_count": null,
   "id": "1b78dae1",
   "metadata": {},
   "outputs": [],
   "source": [
    "matches_rolling"
   ]
  },
  {
   "cell_type": "code",
   "execution_count": null,
   "id": "c293667d",
   "metadata": {},
   "outputs": [],
   "source": [
    "matches_rolling.index = range(matches_rolling.shape[0])"
   ]
  },
  {
   "cell_type": "code",
   "execution_count": null,
   "id": "83ad128b",
   "metadata": {},
   "outputs": [],
   "source": [
    "matches_rolling"
   ]
  },
  {
   "cell_type": "code",
   "execution_count": null,
   "id": "9e75e70d",
   "metadata": {},
   "outputs": [],
   "source": [
    "def make_predictions(data, predictors):\n",
    "    train = data[data[\"date\"] < '2021-08-01']\n",
    "    test = data[data[\"date\"] > '2021-08-01']\n",
    "    rf.fit(train[predictors], train[\"target\"])\n",
    "    preds = rf.predict(test[predictors])\n",
    "    combined = pd.DataFrame(dict(actual=test[\"target\"], predicted=preds), index=test.index)\n",
    "    acc = precision_score(test[\"target\"], preds, average=\"weighted\")\n",
    "    return combined, acc"
   ]
  },
  {
   "cell_type": "code",
   "execution_count": null,
   "id": "ffda855f",
   "metadata": {},
   "outputs": [],
   "source": [
    "train = data[data[\"date\"] < '2021-08-01']\n",
    "test = data[data[\"date\"] > '2021-08-01']\n",
    "rf.fit(train[predictors], train[\"target\"])"
   ]
  },
  {
   "cell_type": "code",
   "execution_count": null,
   "id": "2921c6b5",
   "metadata": {},
   "outputs": [],
   "source": []
  },
  {
   "cell_type": "code",
   "execution_count": null,
   "id": "83dfa3b1",
   "metadata": {},
   "outputs": [],
   "source": [
    "def perm_feature_importance(model, X, y, n):\n",
    "    features = X.columns\n",
    "    importance = permutation_importance(model, X, y).importances_mean\n",
    "    ind_top = np.argsort(importance)[len(features)-n:]\n",
    "    plt.title(str(\"Permutation Importance: Top \" + str(n)))\n",
    "    plt.barh(range(len(ind_top)), importance[ind_top], align=\"center\")\n",
    "    plt.yticks(range(len(ind_top)), [features[i] for i in ind_top])\n",
    "    plt.xlabel(\"Relative Importance\")\n",
    "    plt.show()"
   ]
  },
  {
   "cell_type": "code",
   "execution_count": null,
   "id": "3b31799d",
   "metadata": {},
   "outputs": [],
   "source": [
    "perm_feature_importance(model, X, y, n)"
   ]
  },
  {
   "cell_type": "code",
   "execution_count": null,
   "id": "0c4c28c0",
   "metadata": {
    "scrolled": true
   },
   "outputs": [],
   "source": [
    "matches_rolling[predictors + new_cols]"
   ]
  },
  {
   "cell_type": "code",
   "execution_count": null,
   "id": "3fb790ed",
   "metadata": {},
   "outputs": [],
   "source": [
    "combined, accuracy = make_predictions(matches_rolling, predictors + new_cols)"
   ]
  },
  {
   "cell_type": "code",
   "execution_count": null,
   "id": "8aa1ebbf",
   "metadata": {},
   "outputs": [],
   "source": [
    "accuracy"
   ]
  },
  {
   "cell_type": "code",
   "execution_count": null,
   "id": "4f824377",
   "metadata": {},
   "outputs": [],
   "source": [
    "combined"
   ]
  },
  {
   "cell_type": "code",
   "execution_count": null,
   "id": "1dd18703",
   "metadata": {},
   "outputs": [],
   "source": [
    "pd.crosstab(index=combined[\"actual\"], columns=combined[\"predicted\"])"
   ]
  },
  {
   "cell_type": "code",
   "execution_count": null,
   "id": "b3f3be6b",
   "metadata": {},
   "outputs": [],
   "source": [
    "combined = combined.merge(matches_rolling[[\"date\", \"team\", \"opponent\", \"result\"]], left_index=True, right_index=True)"
   ]
  },
  {
   "cell_type": "code",
   "execution_count": null,
   "id": "e6467854",
   "metadata": {},
   "outputs": [],
   "source": [
    "combined"
   ]
  },
  {
   "cell_type": "code",
   "execution_count": null,
   "id": "8b62f3d2",
   "metadata": {},
   "outputs": [],
   "source": [
    "class MissingDict(dict):\n",
    "    __missing__ = lambda self, key: key\n",
    "\n",
    "map_values = {\"Brighton and Hove Albion\": \"Brighton\", \"Manchester United\": \"Manchester Utd\", \"Newcastle United\": \"Newcastle Utd\", \"Tottenham Hotspur\": \"Tottenham\", \"West Ham United\": \"West Ham\", \"Wolverhampton Wanderers\": \"Wolves\"} \n",
    "mapping = MissingDict(**map_values)"
   ]
  },
  {
   "cell_type": "code",
   "execution_count": null,
   "id": "725e8902",
   "metadata": {},
   "outputs": [],
   "source": [
    "combined[\"new_team\"] = combined[\"team\"].map(mapping)"
   ]
  },
  {
   "cell_type": "code",
   "execution_count": null,
   "id": "e5a51e45",
   "metadata": {},
   "outputs": [],
   "source": [
    "combined"
   ]
  },
  {
   "cell_type": "code",
   "execution_count": null,
   "id": "edc07184",
   "metadata": {},
   "outputs": [],
   "source": [
    "merged = combined.merge(combined, left_on=[\"date\", \"new_team\"], right_on=[\"date\", \"opponent\"])"
   ]
  },
  {
   "cell_type": "code",
   "execution_count": null,
   "id": "61cd7841",
   "metadata": {},
   "outputs": [],
   "source": [
    "merged"
   ]
  },
  {
   "cell_type": "code",
   "execution_count": null,
   "id": "4f37742e",
   "metadata": {},
   "outputs": [],
   "source": [
    "merged[\"pred_result_x\"] = merged[\"predicted_x\"]\n",
    "merged[\"pred_result_y\"] = merged[\"predicted_y\"]"
   ]
  },
  {
   "cell_type": "code",
   "execution_count": null,
   "id": "5e418f12",
   "metadata": {},
   "outputs": [],
   "source": [
    "for k in range(len(merged.predicted_x)):\n",
    "    if merged[\"predicted_x\"][k] == 0:\n",
    "        merged[\"pred_result_x\"][k] = \"D\"\n",
    "    elif merged[\"predicted_x\"][k] == 1:\n",
    "        merged[\"pred_result_x\"][k] = \"L\"\n",
    "    elif merged[\"predicted_x\"][k] == 2:\n",
    "        merged[\"pred_result_x\"][k] = \"W\""
   ]
  },
  {
   "cell_type": "code",
   "execution_count": null,
   "id": "9ef2c76c",
   "metadata": {},
   "outputs": [],
   "source": [
    "for k in range(len(merged.predicted_y)):\n",
    "    if merged[\"predicted_y\"][k] == 0:\n",
    "        merged[\"pred_result_y\"][k] = \"D\"\n",
    "    elif merged[\"predicted_y\"][k] == 1:\n",
    "        merged[\"pred_result_y\"][k] = \"L\"\n",
    "    elif merged[\"predicted_y\"][k] == 2:\n",
    "        merged[\"pred_result_y\"][k] = \"W\""
   ]
  },
  {
   "cell_type": "code",
   "execution_count": null,
   "id": "c0d28201",
   "metadata": {},
   "outputs": [],
   "source": [
    "merged"
   ]
  },
  {
   "cell_type": "code",
   "execution_count": null,
   "id": "fb2dc9cc",
   "metadata": {},
   "outputs": [],
   "source": [
    "def make_league_table(df):\n",
    "    actual_league_table = pd.DataFrame(Team, Wins, Draws, Losses, Points)\n",
    "    predicted_league_table = pd.DataFrame(Team, Wins, Draws, Losses, Points)\n",
    "    \n",
    "    for game in len(df):\n",
    "        "
   ]
  },
  {
   "cell_type": "code",
   "execution_count": null,
   "id": "3badca9d",
   "metadata": {},
   "outputs": [],
   "source": [
    "make_league_table(merged)"
   ]
  },
  {
   "cell_type": "code",
   "execution_count": null,
   "id": "1df724af",
   "metadata": {},
   "outputs": [],
   "source": []
  }
 ],
 "metadata": {
  "kernelspec": {
   "display_name": "Python 3 (ipykernel)",
   "language": "python",
   "name": "python3"
  },
  "language_info": {
   "codemirror_mode": {
    "name": "ipython",
    "version": 3
   },
   "file_extension": ".py",
   "mimetype": "text/x-python",
   "name": "python",
   "nbconvert_exporter": "python",
   "pygments_lexer": "ipython3",
   "version": "3.10.6"
  }
 },
 "nbformat": 4,
 "nbformat_minor": 5
}
